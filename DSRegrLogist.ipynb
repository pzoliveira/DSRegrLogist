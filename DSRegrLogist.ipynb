{
  "nbformat": 4,
  "nbformat_minor": 0,
  "metadata": {
    "colab": {
      "provenance": [],
      "authorship_tag": "ABX9TyOBsV6HkDLk6TjjpyfT2CCA",
      "include_colab_link": true
    },
    "kernelspec": {
      "name": "python3",
      "display_name": "Python 3"
    },
    "language_info": {
      "name": "python"
    }
  },
  "cells": [
    {
      "cell_type": "markdown",
      "metadata": {
        "id": "view-in-github",
        "colab_type": "text"
      },
      "source": [
        "<a href=\"https://colab.research.google.com/github/pzoliveira/DSRegrLogist/blob/main/DSRegrLogist.ipynb\" target=\"_parent\"><img src=\"https://colab.research.google.com/assets/colab-badge.svg\" alt=\"Open In Colab\"/></a>"
      ]
    },
    {
      "cell_type": "markdown",
      "source": [
        "# Importing the Data"
      ],
      "metadata": {
        "id": "axT98xalv8MQ"
      }
    },
    {
      "cell_type": "code",
      "execution_count": 1,
      "metadata": {
        "id": "yr6uTnLbv0nZ"
      },
      "outputs": [],
      "source": [
        "import pickle"
      ]
    },
    {
      "cell_type": "code",
      "source": [
        "with open('credito.pkl', 'rb') as f:\n",
        "  X_credito_treino, y_credito_treino, X_credito_teste, y_credito_teste = pickle.load(f)"
      ],
      "metadata": {
        "id": "1CLNNP1GwIZ6"
      },
      "execution_count": 2,
      "outputs": []
    },
    {
      "cell_type": "code",
      "source": [
        "X_credito_treino.shape, y_credito_treino.shape, X_credito_teste.shape, y_credito_teste.shape"
      ],
      "metadata": {
        "colab": {
          "base_uri": "https://localhost:8080/"
        },
        "id": "_zjNsy1gwY_U",
        "outputId": "cd74ffbb-cd4b-4e3b-a4e1-f231195a4241"
      },
      "execution_count": 3,
      "outputs": [
        {
          "output_type": "execute_result",
          "data": {
            "text/plain": [
              "((22806, 3), (22806,), (9775, 3), (9775,))"
            ]
          },
          "metadata": {},
          "execution_count": 3
        }
      ]
    }
  ]
}